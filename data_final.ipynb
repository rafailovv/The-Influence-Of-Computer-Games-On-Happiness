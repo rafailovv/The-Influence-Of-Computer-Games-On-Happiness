{
 "cells": [
  {
   "cell_type": "markdown",
   "id": "0673a199-f920-42db-8ffb-22a5ce3d5b33",
   "metadata": {},
   "source": [
    "# Влияние компьютерных игр на счастье  \n",
    "Наконец, когда мы имеем метрики, мы сможем узнать, есть ли зависимость между переменными."
   ]
  },
  {
   "cell_type": "markdown",
   "id": "4bd7cef1-6b54-4f17-b7cf-cdf3df1a7b4a",
   "metadata": {},
   "source": [
    "## Кореляция\n",
    "Сейчас мы проведем кореляционный анализ, чтобы ответить на наш вопрос.  \n",
    "Однако, сначала мы построим график, который поможет нам получить представление о данных, и сформируем гипотезы."
   ]
  },
  {
   "cell_type": "code",
   "execution_count": 9,
   "id": "ce624f7f-1373-45c7-bea2-4555a7f303a2",
   "metadata": {},
   "outputs": [
    {
     "data": {
      "text/html": [
       "<div>\n",
       "<style scoped>\n",
       "    .dataframe tbody tr th:only-of-type {\n",
       "        vertical-align: middle;\n",
       "    }\n",
       "\n",
       "    .dataframe tbody tr th {\n",
       "        vertical-align: top;\n",
       "    }\n",
       "\n",
       "    .dataframe thead th {\n",
       "        text-align: right;\n",
       "    }\n",
       "</style>\n",
       "<table border=\"1\" class=\"dataframe\">\n",
       "  <thead>\n",
       "    <tr style=\"text-align: right;\">\n",
       "      <th></th>\n",
       "      <th>id</th>\n",
       "      <th>age</th>\n",
       "      <th>gender</th>\n",
       "      <th>game_hours_per_day</th>\n",
       "      <th>game_days_per_week</th>\n",
       "      <th>game_type</th>\n",
       "      <th>game_genre</th>\n",
       "      <th>game_friends_activity</th>\n",
       "      <th>game_importance</th>\n",
       "      <th>game_addiction</th>\n",
       "      <th>...</th>\n",
       "      <th>happiness_work</th>\n",
       "      <th>happiness_joy</th>\n",
       "      <th>happiness_stress</th>\n",
       "      <th>ghw</th>\n",
       "      <th>happiness_general_norm</th>\n",
       "      <th>happiness_personal_norm</th>\n",
       "      <th>happiness_work_norm</th>\n",
       "      <th>happiness_joy_norm</th>\n",
       "      <th>happiness_stress_norm</th>\n",
       "      <th>happiness_index</th>\n",
       "    </tr>\n",
       "  </thead>\n",
       "  <tbody>\n",
       "    <tr>\n",
       "      <th>0</th>\n",
       "      <td>1855465575</td>\n",
       "      <td>19</td>\n",
       "      <td>M</td>\n",
       "      <td>3</td>\n",
       "      <td>1</td>\n",
       "      <td>Single</td>\n",
       "      <td>Adventure</td>\n",
       "      <td>3</td>\n",
       "      <td>True</td>\n",
       "      <td>False</td>\n",
       "      <td>...</td>\n",
       "      <td>8</td>\n",
       "      <td>4</td>\n",
       "      <td>2</td>\n",
       "      <td>3</td>\n",
       "      <td>0.67</td>\n",
       "      <td>0.22</td>\n",
       "      <td>0.78</td>\n",
       "      <td>0.75</td>\n",
       "      <td>0.25</td>\n",
       "      <td>0.52</td>\n",
       "    </tr>\n",
       "    <tr>\n",
       "      <th>1</th>\n",
       "      <td>1856114803</td>\n",
       "      <td>20</td>\n",
       "      <td>M</td>\n",
       "      <td>4</td>\n",
       "      <td>6</td>\n",
       "      <td>Multiplayer</td>\n",
       "      <td>Action</td>\n",
       "      <td>4</td>\n",
       "      <td>True</td>\n",
       "      <td>True</td>\n",
       "      <td>...</td>\n",
       "      <td>4</td>\n",
       "      <td>5</td>\n",
       "      <td>3</td>\n",
       "      <td>24</td>\n",
       "      <td>0.67</td>\n",
       "      <td>0.67</td>\n",
       "      <td>0.33</td>\n",
       "      <td>1.00</td>\n",
       "      <td>0.50</td>\n",
       "      <td>0.52</td>\n",
       "    </tr>\n",
       "    <tr>\n",
       "      <th>2</th>\n",
       "      <td>1856117571</td>\n",
       "      <td>19</td>\n",
       "      <td>M</td>\n",
       "      <td>0</td>\n",
       "      <td>1</td>\n",
       "      <td>Multiplayer</td>\n",
       "      <td>Action</td>\n",
       "      <td>3</td>\n",
       "      <td>True</td>\n",
       "      <td>False</td>\n",
       "      <td>...</td>\n",
       "      <td>7</td>\n",
       "      <td>4</td>\n",
       "      <td>3</td>\n",
       "      <td>0</td>\n",
       "      <td>0.67</td>\n",
       "      <td>0.33</td>\n",
       "      <td>0.67</td>\n",
       "      <td>0.75</td>\n",
       "      <td>0.50</td>\n",
       "      <td>0.49</td>\n",
       "    </tr>\n",
       "    <tr>\n",
       "      <th>3</th>\n",
       "      <td>1856208774</td>\n",
       "      <td>20</td>\n",
       "      <td>M</td>\n",
       "      <td>1</td>\n",
       "      <td>2</td>\n",
       "      <td>Multiplayer</td>\n",
       "      <td>Role-Play</td>\n",
       "      <td>4</td>\n",
       "      <td>True</td>\n",
       "      <td>False</td>\n",
       "      <td>...</td>\n",
       "      <td>3</td>\n",
       "      <td>4</td>\n",
       "      <td>2</td>\n",
       "      <td>2</td>\n",
       "      <td>0.67</td>\n",
       "      <td>1.00</td>\n",
       "      <td>0.22</td>\n",
       "      <td>0.75</td>\n",
       "      <td>0.25</td>\n",
       "      <td>0.56</td>\n",
       "    </tr>\n",
       "    <tr>\n",
       "      <th>4</th>\n",
       "      <td>1856316803</td>\n",
       "      <td>20</td>\n",
       "      <td>M</td>\n",
       "      <td>0</td>\n",
       "      <td>0</td>\n",
       "      <td>Single</td>\n",
       "      <td>Adventure</td>\n",
       "      <td>0</td>\n",
       "      <td>False</td>\n",
       "      <td>False</td>\n",
       "      <td>...</td>\n",
       "      <td>7</td>\n",
       "      <td>4</td>\n",
       "      <td>1</td>\n",
       "      <td>0</td>\n",
       "      <td>0.78</td>\n",
       "      <td>0.89</td>\n",
       "      <td>0.67</td>\n",
       "      <td>0.75</td>\n",
       "      <td>0.00</td>\n",
       "      <td>0.70</td>\n",
       "    </tr>\n",
       "  </tbody>\n",
       "</table>\n",
       "<p>5 rows × 23 columns</p>\n",
       "</div>"
      ],
      "text/plain": [
       "           id  age gender  game_hours_per_day  game_days_per_week  \\\n",
       "0  1855465575   19      M                   3                   1   \n",
       "1  1856114803   20      M                   4                   6   \n",
       "2  1856117571   19      M                   0                   1   \n",
       "3  1856208774   20      M                   1                   2   \n",
       "4  1856316803   20      M                   0                   0   \n",
       "\n",
       "     game_type game_genre  game_friends_activity  game_importance  \\\n",
       "0       Single  Adventure                      3             True   \n",
       "1  Multiplayer     Action                      4             True   \n",
       "2  Multiplayer     Action                      3             True   \n",
       "3  Multiplayer  Role-Play                      4             True   \n",
       "4       Single  Adventure                      0            False   \n",
       "\n",
       "   game_addiction  ... happiness_work  happiness_joy  happiness_stress  ghw  \\\n",
       "0           False  ...              8              4                 2    3   \n",
       "1            True  ...              4              5                 3   24   \n",
       "2           False  ...              7              4                 3    0   \n",
       "3           False  ...              3              4                 2    2   \n",
       "4           False  ...              7              4                 1    0   \n",
       "\n",
       "   happiness_general_norm  happiness_personal_norm  happiness_work_norm  \\\n",
       "0                    0.67                     0.22                 0.78   \n",
       "1                    0.67                     0.67                 0.33   \n",
       "2                    0.67                     0.33                 0.67   \n",
       "3                    0.67                     1.00                 0.22   \n",
       "4                    0.78                     0.89                 0.67   \n",
       "\n",
       "   happiness_joy_norm  happiness_stress_norm  happiness_index  \n",
       "0                0.75                   0.25             0.52  \n",
       "1                1.00                   0.50             0.52  \n",
       "2                0.75                   0.50             0.49  \n",
       "3                0.75                   0.25             0.56  \n",
       "4                0.75                   0.00             0.70  \n",
       "\n",
       "[5 rows x 23 columns]"
      ]
     },
     "execution_count": 9,
     "metadata": {},
     "output_type": "execute_result"
    }
   ],
   "source": [
    "import pandas as pd\n",
    "import matplotlib.pyplot as plt\n",
    "from scipy import stats\n",
    "\n",
    "\n",
    "df = pd.read_csv(\"data_metrics.csv\")\n",
    "df.head(5)"
   ]
  },
  {
   "cell_type": "code",
   "execution_count": 8,
   "id": "734d5990-b377-433b-90e2-4f652b3c47c3",
   "metadata": {},
   "outputs": [
    {
     "data": {
      "image/png": "[encoded data removed]",
      "text/plain": [
       "<Figure size 640x480 with 1 Axes>"
      ]
     },
     "metadata": {},
     "output_type": "display_data"
    }
   ],
   "source": [
    "plt.scatter(df.ghw, df.happiness_index)\n",
    "plt.title(\"Scatter Plot Of GHW And Happiness Index\")\n",
    "plt.xlabel(\"Game Hours Per Week\")\n",
    "plt.ylabel(\"Happiness Index\")\n",
    "plt.grid(linestyle=\"--\")\n",
    "plt.show()"
   ]
  },
  {
   "cell_type": "markdown",
   "id": "fcc7a3a3-8121-4427-a14d-89e14f8cd53c",
   "metadata": {},
   "source": [
    "Как можно заметить, многие наши данные расположены в левой верхней части графика, также в распределении присутствуют выбросы.  \n",
    "Поэтому, мы будем использовать непараметрический критерий, а именно коэффициент кореляции Спирмена."
   ]
  },
  {
   "cell_type": "markdown",
   "id": "8cf8c46d-dd44-420f-b66e-1e6921d5eef1",
   "metadata": {},
   "source": [
    "### H0: Зависимости между количество часов, проведенных за видеоиграми, и уровнем счастья нет.  \n",
    "### H0: Зависимость между количество часов, проведенных за видеоиграми, и уровнем счастья есть."
   ]
  },
  {
   "cell_type": "code",
   "execution_count": 11,
   "id": "eed4a3e1-e945-4b74-b865-62bb75da19e8",
   "metadata": {},
   "outputs": [
    {
     "data": {
      "text/plain": [
       "(0.01694918495476085, 0.9418699760495923)"
      ]
     },
     "execution_count": 11,
     "metadata": {},
     "output_type": "execute_result"
    }
   ],
   "source": [
    "spearmen_stats, spearmen_p_value = stats.spearmanr(df.ghw, df.happiness_index)\n",
    "spearmen_stats, spearmen_p_value"
   ]
  },
  {
   "cell_type": "markdown",
   "id": "b08897a1-9ea6-48a5-9113-166a166d2e06",
   "metadata": {},
   "source": [
    "Значение коэффициента кореляции Спирмена примерно равно 0.02, что говорит об отсутствии зависимости между переменными.  \n",
    "Значение p_value равное 0.94 > 0.05, что говорит о том, что мы не можем отвергнуть нулевую гипотезу, утверждающую, что зависимости между переменными нет."
   ]
  }
 ],
 "metadata": {
  "kernelspec": {
   "display_name": "Python 3 (ipykernel)",
   "language": "python",
   "name": "python3"
  },
  "language_info": {
   "codemirror_mode": {
    "name": "ipython",
    "version": 3
   },
   "file_extension": ".py",
   "mimetype": "text/x-python",
   "name": "python",
   "nbconvert_exporter": "python",
   "pygments_lexer": "ipython3",
   "version": "3.12.2"
  }
 },
 "nbformat": 4,
 "nbformat_minor": 5
}
